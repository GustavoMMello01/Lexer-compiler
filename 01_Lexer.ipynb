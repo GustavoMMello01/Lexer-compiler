{
  "cells": [
    {
      "cell_type": "code",
      "execution_count": 6,
      "metadata": {
        "colab": {
          "base_uri": "https://localhost:8080/"
        },
        "id": "br298Ypcs989",
        "outputId": "0a318020-0995-4ea2-e350-9f46522c5562"
      },
      "outputs": [
        {
          "name": "stdout",
          "output_type": "stream",
          "text": [
            "var a\n",
            "var b\n",
            "var c\n",
            "var d\n",
            "var e\n",
            "var f\n",
            "\n",
            "a = 5\n",
            "b = 3\n",
            "c = \"12\"\n",
            "d = 12\"\n",
            "\n",
            "if(a==5)\n",
            "\n",
            "result = a + b\n"
          ]
        }
      ],
      "source": [
        "## lendo o código fonte\n",
        "\n",
        "arquivo = open('codigo.x','r')\n",
        "for l in arquivo.readlines():\n",
        "    l = l.replace('\\n','') # remove a quebra de linha\n",
        "    print(l)"
      ]
    },
    {
      "cell_type": "code",
      "execution_count": 16,
      "metadata": {
        "colab": {
          "base_uri": "https://localhost:8080/"
        },
        "id": "tg6j_7gVs98_",
        "outputId": "8ae00d47-88b3-418e-d76e-1cc6e40cb094"
      },
      "outputs": [
        {
          "name": "stdout",
          "output_type": "stream",
          "text": [
            "['var', 'a']\n",
            "['var', 'b']\n",
            "['var', 'c']\n",
            "['var', 'd']\n",
            "['var', 'e']\n",
            "['var', 'f']\n",
            "[]\n",
            "['a', '=', '5']\n",
            "['b', '=', '3']\n",
            "['c', '=', '\"12\"']\n",
            "[]\n",
            "['if(a==5)']\n",
            "[]\n",
            "['result', '=', 'a', '+', 'b']\n"
          ]
        }
      ],
      "source": [
        "## iniciando a definição dos tokens que serão a saída da análise léxica\n",
        "\n",
        "T_KEYWORDS_VAR = \"<keyword var>\"\n",
        "T_OP = \"<op %s>\"\n",
        "T_INT = \"<int %s>\"\n",
        "T_STRING = \"<string %s>\"\n",
        "T_IDENTIF = \"<id %s>\"\n",
        "T_KEYWORD_IF = \"<keyword if>\"\n",
        "T_KEYWORD_ELIF = \"<keyword elif>\"\n",
        "T_KEYWORD_ELSE = \"<keyword else>\"\n",
        "T_LEFT_PAREN = \"<left_paren>\"\n",
        "T_RIGHT_PAREN = \"<right_paren>\"\n",
        "T_CONDITIONAL_OP = \"<conditional_op %s>\"\n",
        "\n",
        "arquivo = open('codigo.x','r')\n",
        "for l in arquivo.readlines():\n",
        "    l = l.replace('\\n','')\n",
        "    tokens = []\n",
        "    for token in l.split():\n",
        "        tokens.append(token)\n",
        "    print(tokens)"
      ]
    },
    {
      "cell_type": "code",
      "execution_count": 22,
      "metadata": {
        "colab": {
          "base_uri": "https://localhost:8080/"
        },
        "id": "sWRvC4r9s99A",
        "outputId": "e38c4efd-d4c9-49a3-e9fb-5c8a48b267c5"
      },
      "outputs": [
        {
          "name": "stdout",
          "output_type": "stream",
          "text": [
            "[None, None]\n",
            "[None, None]\n",
            "[None, None]\n",
            "[None, None]\n",
            "[None, None]\n",
            "[None, None]\n",
            "[]\n",
            "é inteiro:  5\n",
            "[None, '<op =>', '<int 5>']\n",
            "é inteiro:  3\n",
            "[None, '<op =>', '<int 3>']\n",
            "[None, '<op =>', None]\n",
            "[]\n",
            "é inteiro:  5\n",
            "['<keyword if>', '<left_paren>', None, '<conditional_op %s>', '<int 5>', '<right_paren>']\n",
            "[]\n",
            "[None, '<op =>', None, None, None]\n"
          ]
        }
      ],
      "source": [
        "## definindo o afd principal para processar e categorizar os tokens\n",
        "\n",
        "T_KEYWORDS_VAR = \"<keyword init>\"\n",
        "T_OP = \"<op %s>\"\n",
        "T_INT = \"<int %s>\"\n",
        "T_STRING = \"<string %s>\"\n",
        "T_IDENTIF = \"<id %s>\"\n",
        "T_KEYWORD_IF = \"<keyword if>\"\n",
        "T_KEYWORD_ELIF = \"<keyword elif>\"\n",
        "T_KEYWORD_ELSE = \"<keyword else>\"\n",
        "T_LEFT_PAREN = \"<left_paren>\"\n",
        "T_RIGHT_PAREN = \"<right_paren>\"\n",
        "T_CONDITIONAL_OP = \"<conditional_op %s>\"\n",
        "\n",
        "def is_int(s):\n",
        "    try:\n",
        "        int(s)\n",
        "        return True\n",
        "    except ValueError:\n",
        "        return False\n",
        "\n",
        "def afd_principal(token):\n",
        "\n",
        "    if token == \"init\":\n",
        "        return T_KEYWORDS_VAR\n",
        "    elif token == \"=\":\n",
        "        return T_OP % token\n",
        "    elif token == \"if\":\n",
        "        return T_KEYWORD_IF\n",
        "    elif token == \"elif\":\n",
        "        return T_KEYWORD_ELIF\n",
        "    elif token == \"else\":\n",
        "        return T_KEYWORD_ELSE\n",
        "    elif token == \"(\":\n",
        "        return T_LEFT_PAREN\n",
        "    elif token == \")\":\n",
        "        return T_RIGHT_PAREN\n",
        "    elif token in [\"==\", \"!=\", \"<\", \">\", \"<=\", \">=\"]:\n",
        "        return T_CONDITIONAL_OP\n",
        "    elif is_int(token):\n",
        "        return T_INT % token\n",
        "\n",
        "    return None\n",
        "\n",
        "arquivo = open('codigo.x','r')\n",
        "for l in arquivo.readlines():\n",
        "    l = l.replace('\\n','') # remove a quebra de linha\n",
        "    tokens = []\n",
        "    for token in l.split():\n",
        "        tokens.append(afd_principal(token))\n",
        "\n",
        "    print(tokens)\n"
      ]
    },
    {
      "cell_type": "code",
      "execution_count": 2,
      "metadata": {
        "colab": {
          "base_uri": "https://localhost:8080/"
        },
        "id": "nqj3qcOIs99A",
        "outputId": "4f9dd127-f223-4ac5-f18a-e072489e1970"
      },
      "outputs": [
        {
          "name": "stdout",
          "output_type": "stream",
          "text": [
            "num  2  -  \"a string\"\n",
            "['<keyword init>', '<op =>', '<id validID>', '<id _invalidStart>', '<id %invalidID>', '<id 123invalid>', '<string \"a string\">', '<id #anotherInvalid>', '<id @test>']\n"
          ]
        }
      ],
      "source": [
        "## definindo uma mensagem de erro para tokens que não puderem ser processados\n",
        "\n",
        "import re\n",
        "\n",
        "T_KEYWORDS_INIT = \"<keyword init>\"\n",
        "T_OP = \"<op %s>\"\n",
        "T_INT = \"<int %s>\"\n",
        "T_STRING = \"<string %s>\"\n",
        "T_IDENTIF = \"<id %s>\"\n",
        "\n",
        "class StopExecution(Exception):\n",
        "    def _render_traceback_(self):\n",
        "        pass\n",
        "\n",
        "def afd_principal(token):\n",
        "\n",
        "    # Starts only with a letter (upper or lower case), followed by letters, numbers, or underscores.\n",
        "    id_pattern = r\"^[a-zA-Z][a-zA-Z0-9_]*$\"\n",
        "\n",
        "    if token == \"init\":\n",
        "        return T_KEYWORDS_INIT\n",
        "    elif token == \"=\":\n",
        "        return T_OP % token\n",
        "    elif re.match(id_pattern, token):\n",
        "        return T_IDENTIF % token\n",
        "    elif re.match(r\"^.+$\", token):\n",
        "        num = token.count('\"')\n",
        "        if num >= 1:\n",
        "          print(\"num \", num, \" - \", token)\n",
        "          if(token[0] == '\"'  and token[-1] == '\"'):\n",
        "            if num > 2:\n",
        "              raise ValueError('Valor inesperado')\n",
        "            return T_STRING % token\n",
        "          elif(token[0] != '\"' or token[-1] != '\"'):\n",
        "            raise ValueError('Valor inesperado')\n",
        "        return T_IDENTIF % token\n",
        "    else:\n",
        "        raise ValueError('Valor inesperado')\n",
        "    return None\n",
        "\n",
        "arquivo = open('codigo.x','r')\n",
        "ln = 1\n",
        "for l in arquivo.readlines():\n",
        "    l = l.replace('\\n','') # remove a quebra de linha\n",
        "    tokens = []\n",
        "    for token in l.split():\n",
        "        try:\n",
        "            tokens.append(afd_principal(token))\n",
        "        except Exception as e:\n",
        "            print(tokens)\n",
        "            print(str(e) + \" na posição %i da linha %i\" % (l.index(token), ln))\n",
        "            raise StopExecution\n",
        "    ln += 1\n",
        "\n",
        "    print(tokens)"
      ]
    },
    {
      "cell_type": "markdown",
      "metadata": {
        "id": "0Zolh5TCs99B"
      },
      "source": [
        "## Desafio\n",
        "\n",
        "1. Permita que o AFD reconheça strings delimitadas por aspas duplas (\"), ao mesmo tempo, não permita que a string possua outras aspas duplas (além da abertura e fechamento)\n",
        "2. Permita que o AFD reconheça identificadores (nomes de variáveis)\n"
      ]
    }
  ],
  "metadata": {
    "colab": {
      "provenance": []
    },
    "kernelspec": {
      "display_name": "Python 3",
      "language": "python",
      "name": "python3"
    },
    "language_info": {
      "codemirror_mode": {
        "name": "ipython",
        "version": 3
      },
      "file_extension": ".py",
      "mimetype": "text/x-python",
      "name": "python",
      "nbconvert_exporter": "python",
      "pygments_lexer": "ipython3",
      "version": "3.11.2"
    }
  },
  "nbformat": 4,
  "nbformat_minor": 0
}
